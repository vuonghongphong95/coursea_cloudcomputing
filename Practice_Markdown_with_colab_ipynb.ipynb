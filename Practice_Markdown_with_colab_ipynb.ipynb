{
  "nbformat": 4,
  "nbformat_minor": 0,
  "metadata": {
    "colab": {
      "name": "Practice_Markdown_with_colab.ipynb.ipynb",
      "provenance": [],
      "collapsed_sections": [],
      "authorship_tag": "ABX9TyNGugK2fSY/+xWY433GzC/Z",
      "include_colab_link": true
    },
    "kernelspec": {
      "name": "python3",
      "display_name": "Python 3"
    },
    "language_info": {
      "name": "python"
    }
  },
  "cells": [
    {
      "cell_type": "markdown",
      "metadata": {
        "id": "view-in-github",
        "colab_type": "text"
      },
      "source": [
        "<a href=\"https://colab.research.google.com/github/vuonghongphong95/coursea_cloudcomputing/blob/main/Practice_Markdown_with_colab_ipynb.ipynb\" target=\"_parent\"><img src=\"https://colab.research.google.com/assets/colab-badge.svg\" alt=\"Open In Colab\"/></a>"
      ]
    },
    {
      "cell_type": "markdown",
      "source": [
        "## Practice Markdown"
      ],
      "metadata": {
        "id": "cG2NPROKSGHM"
      }
    },
    {
      "cell_type": "markdown",
      "source": [
        "This notebook lets you experiment with producing repeatable technical documentation. Use this notebook to do the following actions:\n",
        "* Create a code cell and print a Python Hello World statement: print(\"hello world\")\n",
        "* Create a Markdown Cell and add a Title using # and then a statement using plain text. You can looks at the source code for this cell to get an idea of how to use Markdown.\n",
        "* Take some ideas from the Master Markdown Github Guide and implement them here.\n",
        "* Finally, download this notebook as a .ipynb file and check into a Github Project"
      ],
      "metadata": {
        "id": "TXPWAehpR_-s"
      }
    },
    {
      "cell_type": "markdown",
      "source": [
        "## Create a code cell"
      ],
      "metadata": {
        "id": "1Cqumm8qSUBE"
      }
    },
    {
      "cell_type": "code",
      "source": [
        "print(\"Hello World\")"
      ],
      "metadata": {
        "id": "pL_0Y1BISS_t"
      },
      "execution_count": null,
      "outputs": []
    },
    {
      "cell_type": "markdown",
      "source": [
        "### Create a Markdown Cell done"
      ],
      "metadata": {
        "id": "Mi1IySiQSc59"
      }
    },
    {
      "cell_type": "markdown",
      "source": [
        ""
      ],
      "metadata": {
        "id": "a6miSoMGSieT"
      }
    },
    {
      "cell_type": "markdown",
      "source": [
        "### Implement ok on Github"
      ],
      "metadata": {
        "id": "iAb5u0PPSmMD"
      }
    },
    {
      "cell_type": "markdown",
      "source": [
        "# The end, Download and upload on Git"
      ],
      "metadata": {
        "id": "6nZyw3DySqgF"
      }
    }
  ]
}